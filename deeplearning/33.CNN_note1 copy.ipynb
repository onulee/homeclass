{
 "cells": [
  {
   "cell_type": "code",
   "execution_count": 5,
   "metadata": {},
   "outputs": [],
   "source": [
    "import pandas as pd\n",
    "import numpy as np\n",
    "import matplotlib.pyplot as plt\n",
    "import matplotlib\n",
    "from sklearn.model_selection import train_test_split\n",
    "matplotlib.rcParams['axes.unicode_minus'] = False\n",
    "from gensim.models.word2vec import Word2Vec\n",
    "from konlpy.tag import Okt\n",
    "import tensorflow as tf\n",
    "from tensorflow import keras\n",
    "from tensorflow.keras.datasets import imdb\n",
    "from PIL import Image"
   ]
  },
  {
   "cell_type": "code",
   "execution_count": 6,
   "metadata": {},
   "outputs": [],
   "source": [
    "# 1개의 RGB컬러를 변경\n",
    "with open(\"tower.jpg\",\"rb\") as file:\n",
    "    # hash코드로 오픈\n",
    "    img = Image.open(file)\n",
    "    # 컬러변환\n",
    "    img = img.convert(\"RGB\")\n",
    "    # 사이즈 변경\n",
    "    img = img.resize((28, 28))\n",
    "    # 배열로 변경\n",
    "    data = np.asarray(img)\n",
    "    "
   ]
  },
  {
   "cell_type": "code",
   "execution_count": null,
   "metadata": {},
   "outputs": [],
   "source": [
    "model = keras.models.load_model(\"best-cnn-model.h5\")\n"
   ]
  },
  {
   "cell_type": "code",
   "execution_count": 11,
   "metadata": {},
   "outputs": [
    {
     "name": "stdout",
     "output_type": "stream",
     "text": [
      "375/375 [==============================] - 2s 7ms/step - loss: 0.2155 - accuracy: 0.9210\n",
      "loss accuracy :  [0.2155463844537735, 0.9210000038146973]\n"
     ]
    }
   ],
   "source": [
    "# 정확도\n",
    "score = model.evaluate(val_scaled, val_target)\n",
    "print(\"loss accuracy : \",score)"
   ]
  },
  {
   "cell_type": "code",
   "execution_count": 12,
   "metadata": {},
   "outputs": [
    {
     "data": {
      "image/png": "[encoded data removed]",
      "text/plain": [
       "<Figure size 432x288 with 1 Axes>"
      ]
     },
     "metadata": {
      "needs_background": "light"
     },
     "output_type": "display_data"
    }
   ],
   "source": [
    "# test데이터 0번 출력\n",
    "plt.imshow(val_scaled[0].reshape(28, 28), cmap='gray_r')\n",
    "plt.show()"
   ]
  },
  {
   "cell_type": "code",
   "execution_count": 13,
   "metadata": {},
   "outputs": [
    {
     "name": "stdout",
     "output_type": "stream",
     "text": [
      "[[1.32536399e-18 8.35015756e-22 8.13429189e-22 1.20192056e-17\n",
      "  1.00110965e-17 3.41908634e-16 2.50674665e-18 3.88434529e-19\n",
      "  1.00000000e+00 2.14571103e-20]]\n"
     ]
    }
   ],
   "source": [
    "# 1번 예측 - 10개의 확률 출력\n",
    "# 9번이 100% 예측\n",
    "preds = model.predict(val_scaled[0:1])\n",
    "print(preds)"
   ]
  },
  {
   "cell_type": "code",
   "execution_count": 14,
   "metadata": {},
   "outputs": [
    {
     "data": {
      "image/png": "[encoded data removed]",
      "text/plain": [
       "<Figure size 432x288 with 1 Axes>"
      ]
     },
     "metadata": {
      "needs_background": "light"
     },
     "output_type": "display_data"
    }
   ],
   "source": [
    "# 1-10까지 막대그래프 출력\n",
    "plt.bar(range(1, 11), preds[0])\n",
    "plt.xlabel('class')\n",
    "plt.ylabel('prob.')\n",
    "plt.show()"
   ]
  },
  {
   "cell_type": "code",
   "execution_count": 15,
   "metadata": {},
   "outputs": [
    {
     "name": "stdout",
     "output_type": "stream",
     "text": [
      "가방\n"
     ]
    }
   ],
   "source": [
    "classes = ['티셔츠', '바지', '스웨터', '드레스', '코트',\n",
    "           '샌달', '셔츠', '스니커즈', '가방', '앵클 부츠']\n",
    "\n",
    "# 예측 글자 출력 - 최대크기 위치 번호 출력 8 위치\n",
    "# argmax 배열중 가장 큰 값 위치 출력\n",
    "print(classes[np.argmax(preds)])"
   ]
  },
  {
   "cell_type": "code",
   "execution_count": 16,
   "metadata": {},
   "outputs": [
    {
     "name": "stdout",
     "output_type": "stream",
     "text": [
      "313/313 [==============================] - 3s 8ms/step - loss: 0.2429 - accuracy: 0.9153\n",
      "[0.2428572028875351, 0.9153000116348267]\n"
     ]
    }
   ],
   "source": [
    "# test데이터 1개 입력데이터 만듬\n",
    "test_scaled = test_input.reshape(-1, 28, 28, 1) / 255.0\n",
    "\n",
    "# 정확도\n",
    "print(model.evaluate(test_scaled, test_target))"
   ]
  },
  {
   "cell_type": "code",
   "execution_count": 17,
   "metadata": {},
   "outputs": [
    {
     "name": "stdout",
     "output_type": "stream",
     "text": [
      "[[3.4860337e-12 2.5274076e-14 5.4005134e-11 3.2107541e-13 3.7346485e-13\n",
      "  1.7241723e-06 1.1476452e-10 1.0642613e-05 4.3492786e-11 9.9998760e-01]]\n"
     ]
    }
   ],
   "source": [
    "preds = model.predict(test_scaled[0:1])\n",
    "print(preds)"
   ]
  },
  {
   "cell_type": "code",
   "execution_count": 18,
   "metadata": {},
   "outputs": [
    {
     "data": {
      "image/png": "[encoded data removed]",
      "text/plain": [
       "<Figure size 432x288 with 1 Axes>"
      ]
     },
     "metadata": {
      "needs_background": "light"
     },
     "output_type": "display_data"
    }
   ],
   "source": [
    "# 1-10까지 막대그래프 출력\n",
    "plt.bar(range(1, 11), preds[0])\n",
    "plt.xlabel('class')\n",
    "plt.ylabel('prob.')\n",
    "plt.show()"
   ]
  },
  {
   "cell_type": "code",
   "execution_count": 19,
   "metadata": {},
   "outputs": [
    {
     "name": "stdout",
     "output_type": "stream",
     "text": [
      "앵클 부츠\n"
     ]
    }
   ],
   "source": [
    "classes = ['티셔츠', '바지', '스웨터', '드레스', '코트',\n",
    "           '샌달', '셔츠', '스니커즈', '가방', '앵클 부츠']\n",
    "\n",
    "# 예측 글자 출력 - 최대크기 위치 번호 출력 8 위치\n",
    "# argmax 배열중 가장 큰 값 위치 출력\n",
    "print(classes[np.argmax(preds)])"
   ]
  }
 ],
 "metadata": {
  "kernelspec": {
   "display_name": "Python 3.10.2 64-bit",
   "language": "python",
   "name": "python3"
  },
  "language_info": {
   "codemirror_mode": {
    "name": "ipython",
    "version": 3
   },
   "file_extension": ".py",
   "mimetype": "text/x-python",
   "name": "python",
   "nbconvert_exporter": "python",
   "pygments_lexer": "ipython3",
   "version": "3.10.2"
  },
  "orig_nbformat": 4,
  "vscode": {
   "interpreter": {
    "hash": "17eb394813669ec6020a69e0d589363dda0402169b832bcb90ed18cccdac2ee5"
   }
  }
 },
 "nbformat": 4,
 "nbformat_minor": 2
}
